{
 "cells": [
  {
   "cell_type": "raw",
   "id": "9f2a0bb7-e3cf-4b9c-9acf-0b63c4029d2f",
   "metadata": {},
   "source": [
    "1. Write a program to accept percentage from the user and display the grade according to the following criteria:\n",
    " Marks              Grade \n",
    " >90                 A \n",
    " >80 and <=90        B \n",
    " >=60 and <=80       C \n",
    " below 60            D "
   ]
  },
  {
   "cell_type": "code",
   "execution_count": 1,
   "id": "ac9c519b-dadc-4082-a264-06919ca70afa",
   "metadata": {},
   "outputs": [
    {
     "name": "stdin",
     "output_type": "stream",
     "text": [
      "Enter marks:  50\n"
     ]
    },
    {
     "name": "stdout",
     "output_type": "stream",
     "text": [
      "Grade D\n"
     ]
    }
   ],
   "source": [
    "marks = int(input(\"Enter marks: \"))\n",
    "if marks > 90:\n",
    "    print(\"Grade A\")\n",
    "elif 90 >= marks > 80:\n",
    "    print(\"Grade B\")\n",
    "elif 80 >= marks >= 60:\n",
    "    print(\"Grade C\")\n",
    "elif 0 <= marks < 60:\n",
    "    print(\"Grade D\")\n",
    "    "
   ]
  },
  {
   "cell_type": "markdown",
   "id": "aaf56188-a8a2-44ac-8415-94b05d8c9271",
   "metadata": {},
   "source": [
    "\"\"\"Q2. Write a program to accept the cost price of a bike and display the road tax to be paid according to the following criteria."
   ]
  },
  {
   "cell_type": "code",
   "execution_count": 2,
   "id": "28dca6ef-e7bc-4ec6-8e38-28fca74f3cd4",
   "metadata": {},
   "outputs": [
    {
     "name": "stdin",
     "output_type": "stream",
     "text": [
      "Enter the cost price:  10000\n"
     ]
    },
    {
     "name": "stdout",
     "output_type": "stream",
     "text": [
      "Road tax to be paid is 500.0\n"
     ]
    }
   ],
   "source": [
    "price = int(input(\"Enter the cost price: \"))\n",
    "tax = 0\n",
    "if price > 100000:\n",
    "    tax = 0.15 * price\n",
    "elif 100000 >= price > 50000:\n",
    "    tax = 0.10 * price\n",
    "elif price <= 50000:\n",
    "    tax = 0.05 * price\n",
    "\n",
    "print(f\"Road tax to be paid is {tax}\")"
   ]
  },
  {
   "cell_type": "markdown",
   "id": "1cee25e2-20bf-41f9-9653-8ffc347149e4",
   "metadata": {},
   "source": [
    "\"\"\"Q3. Accept any city from the user and display monuments of that city? \"\"\""
   ]
  },
  {
   "cell_type": "code",
   "execution_count": 3,
   "id": "4fdebdfb-2d39-4e34-b0d2-0350eae06edf",
   "metadata": {},
   "outputs": [
    {
     "name": "stdin",
     "output_type": "stream",
     "text": [
      "Enter city:  delhi\n"
     ]
    },
    {
     "name": "stdout",
     "output_type": "stream",
     "text": [
      "Monument from delhi is Red Fort \n"
     ]
    }
   ],
   "source": [
    "name = input(\"Enter city: \")\n",
    "city_name = name.lower()\n",
    "data = {\n",
    "    'delhi' : 'Red Fort',\n",
    "    'agra' : 'Taj Mahal',\n",
    "    'jaipur' : 'Jai Mahal'\n",
    "}\n",
    "\n",
    "print(f\"Monument from {name} is {data[city_name]} \")"
   ]
  },
  {
   "cell_type": "markdown",
   "id": "7a3690a9-178a-4387-9690-b439930b110f",
   "metadata": {},
   "source": [
    "\"\"\"Q4. Check how many times a given number can be divided by 3 before it is less than or equal to 10\"\"\""
   ]
  },
  {
   "cell_type": "code",
   "execution_count": 4,
   "id": "2e39567c-2e64-4c03-89b7-a52cbecb75d6",
   "metadata": {},
   "outputs": [
    {
     "name": "stdin",
     "output_type": "stream",
     "text": [
      "Enter a number:  2\n"
     ]
    },
    {
     "name": "stdout",
     "output_type": "stream",
     "text": [
      "0\n"
     ]
    }
   ],
   "source": [
    "n = int(input(\"Enter a number: \"))\n",
    "count = 0\n",
    "while n > 10:\n",
    "    n = n / 3\n",
    "    count += 1\n",
    "print(count)"
   ]
  },
  {
   "cell_type": "markdown",
   "id": "0cd768fe-66ce-4fed-8a63-ec993fdeab45",
   "metadata": {},
   "source": [
    "Q5. Why and When to Use while Loop in Python give a detailed description with example."
   ]
  },
  {
   "cell_type": "markdown",
   "id": "157fdc20-7b14-4307-85c4-51a30c58660e",
   "metadata": {},
   "source": [
    "In Python, a \"while\" loop is used to repeatedly execute a block of code as long as a certain condition is true. It is an entry-controlled loop, meaning the condition is evaluated at the beginning of each iteration. The loop continues until the condition becomes false.\n",
    "\n"
   ]
  },
  {
   "cell_type": "raw",
   "id": "26d93e7a-3cb4-4ee3-b018-2943eabc3687",
   "metadata": {},
   "source": [
    "#The general syntax of a \"while\" loop in Python is as follows:\n",
    "while condition:\n",
    "    # Code block to be executed\n",
    "\n",
    "#Here's a detailed description of why and when to use a while loop in Python, along with an example:"
   ]
  },
  {
   "cell_type": "markdown",
   "id": "7561267d-bb1d-46c3-a7f8-ae9b1f0c17fd",
   "metadata": {},
   "source": [
    "1. Iterating Until a Condition is Met: The most common use case for a \"while\" loop is when you need to repeat a block of code until a specific condition becomes false. This is useful when you don't know the exact number of iterations beforehand. For example, you can use a \"while\" loop to keep prompting the user for input until they enter a valid value:\n"
   ]
  },
  {
   "cell_type": "code",
   "execution_count": 6,
   "id": "30a5f51f-de81-4a23-8c40-6794836818be",
   "metadata": {},
   "outputs": [
    {
     "name": "stdin",
     "output_type": "stream",
     "text": [
      "Please enter a number:  4\n"
     ]
    },
    {
     "name": "stdout",
     "output_type": "stream",
     "text": [
      "Valid input!\n"
     ]
    }
   ],
   "source": [
    "valid_input = False\n",
    "while not valid_input:\n",
    "    user_input = input(\"Please enter a number: \")\n",
    "    if user_input.isdigit():\n",
    "        valid_input = True\n",
    "        print(\"Valid input!\")\n",
    "    else:\n",
    "        print(\"Invalid input. Please try again.\")\n",
    "\n",
    "#In this example, the loop will continue until the user enters a valid number. \n",
    "#The condition not \"valid_input\" evaluates to \"True\" until the user provides a valid input, and then the loop terminates."
   ]
  },
  {
   "cell_type": "markdown",
   "id": "df9580c6-fdac-4e79-987b-d5f56b742c51",
   "metadata": {},
   "source": [
    "2. Implementing Countdowns or Countdowns: while loops can be used to implement countdowns or count-ups where the number of iterations is not known in advance. For instance, consider the following example that counts down from 10 to 1:\n"
   ]
  },
  {
   "cell_type": "code",
   "execution_count": 7,
   "id": "15d151bf-27c3-4287-b410-e8f793cc3123",
   "metadata": {},
   "outputs": [
    {
     "name": "stdout",
     "output_type": "stream",
     "text": [
      "10\n",
      "9\n",
      "8\n",
      "7\n",
      "6\n",
      "5\n",
      "4\n",
      "3\n",
      "2\n",
      "1\n",
      "Blastoff!\n"
     ]
    }
   ],
   "source": [
    "count = 10\n",
    "while count > 0:\n",
    "    print(count)\n",
    "    count -= 1\n",
    "print(\"Blastoff!\")\n",
    "\n",
    "#This loop will continue executing as long as the \"count\" variable is greater than 0. It prints the current value of \"count\", decrements it by 1, and repeats the process until the condition becomes false. Finally, it prints \"Blastoff!\"."
   ]
  },
  {
   "cell_type": "markdown",
   "id": "403f14d2-38ef-434f-b6b6-0f9646e22720",
   "metadata": {},
   "source": [
    "3. Continuous Execution until a Termination Condition: A \"while\" loop can be used when you want a piece of code to run indefinitely until a specific termination condition is met. This is often useful in programs that run as daemons or continuously monitor certain conditions. Here's an example where a program continuously generates random numbers until a number less than 0 is generated:"
   ]
  },
  {
   "cell_type": "code",
   "execution_count": 8,
   "id": "e6484258-3310-40bf-b4f8-5450901c67d6",
   "metadata": {},
   "outputs": [
    {
     "name": "stdout",
     "output_type": "stream",
     "text": [
      "64\n",
      "-51\n"
     ]
    }
   ],
   "source": [
    "import random\n",
    "\n",
    "while True:\n",
    "    number = random.randint(-100, 100)\n",
    "    print(number)\n",
    "    if number < 0:\n",
    "        break\n",
    "\n",
    "\n",
    "        \n",
    "#In this example, the loop runs indefinitely with the condition \"True\". The loop generates a random number and prints it. If the number is less than 0, the \"break\" statement is executed, terminating the loop.\n",
    "\n"
   ]
  },
  {
   "cell_type": "markdown",
   "id": "8d78e3d2-be83-477d-8f9d-b7030d94f90f",
   "metadata": {},
   "source": [
    "Remember to be cautious when using \"while\" loops to avoid infinite loops. Ensure that the condition eventually becomes false; otherwise, the loop will continue indefinitely, causing your program to hang or crash.\n",
    "\n",
    "In summary, a \"while\" loop in Python is useful when you want to repeat a block of code until a specific condition is met. It provides flexibility in handling situations where the number of iterations is unknown or when you need continuous execution until a termination condition is reached."
   ]
  },
  {
   "cell_type": "markdown",
   "id": "d427d9e0-bd34-4aee-ac28-f580f4e28d8e",
   "metadata": {},
   "source": [
    "Q6. Use nested while loop to print 3 different pattern.\n"
   ]
  },
  {
   "cell_type": "code",
   "execution_count": 9,
   "id": "87c88b40-b5c6-4543-b1da-09ff4bcbb9c0",
   "metadata": {},
   "outputs": [
    {
     "name": "stdout",
     "output_type": "stream",
     "text": [
      "First Pattern\n",
      "*\n",
      "**\n",
      "***\n",
      "****\n",
      "*****\n",
      "\n",
      "Second pattern\n",
      "1\n",
      "12\n",
      "123\n",
      "1234\n",
      "12345\n",
      "\n",
      "third pattern\n",
      "1\n",
      "22\n",
      "333\n",
      "4444\n",
      "55555\n"
     ]
    }
   ],
   "source": [
    "print(\"First Pattern\")\n",
    "i=1;\n",
    "while i<=5:\n",
    "    j=1\n",
    "    while j<=i:\n",
    "        print(\"*\",end=\"\")\n",
    "        j+=1\n",
    "    print()\n",
    "    i+=1\n",
    "print()\n",
    "print(\"Second pattern\")\n",
    "i=1\n",
    "while i<=5:\n",
    "    j=1\n",
    "    while j<=i:\n",
    "        print(j,end=\"\")\n",
    "        j+=1\n",
    "    print()\n",
    "    i+=1\n",
    "print()\n",
    "print(\"third pattern\")\n",
    "i=1;\n",
    "while i<=5:\n",
    "    j=1\n",
    "    while j<=i:\n",
    "        print(i,end=\"\")\n",
    "        j+=1\n",
    "    print()\n",
    "    i+=1"
   ]
  },
  {
   "cell_type": "markdown",
   "id": "60de376d-f4b2-489b-a408-ce062a570b8c",
   "metadata": {},
   "source": [
    "Q7. & Q8. Reverse a while loop to display numbers from 10 to 1.\n"
   ]
  },
  {
   "cell_type": "code",
   "execution_count": 10,
   "id": "4ae88d7c-2a00-499a-8c47-b5ecd6734359",
   "metadata": {},
   "outputs": [
    {
     "name": "stdout",
     "output_type": "stream",
     "text": [
      "10 9 8 7 6 5 4 3 2 1 "
     ]
    }
   ],
   "source": [
    "n = 10\n",
    "while n > 0:\n",
    "    print(n, end = \" \")\n",
    "    n = n - 1"
   ]
  },
  {
   "cell_type": "code",
   "execution_count": null,
   "id": "ca2c3992-1c5b-42b1-894c-596c0e538a76",
   "metadata": {},
   "outputs": [],
   "source": []
  }
 ],
 "metadata": {
  "kernelspec": {
   "display_name": "Python 3 (ipykernel)",
   "language": "python",
   "name": "python3"
  },
  "language_info": {
   "codemirror_mode": {
    "name": "ipython",
    "version": 3
   },
   "file_extension": ".py",
   "mimetype": "text/x-python",
   "name": "python",
   "nbconvert_exporter": "python",
   "pygments_lexer": "ipython3",
   "version": "3.10.6"
  }
 },
 "nbformat": 4,
 "nbformat_minor": 5
}
